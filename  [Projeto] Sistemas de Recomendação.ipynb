{
 "cells": [
  {
   "cell_type": "code",
   "execution_count": null,
   "metadata": {},
   "outputs": [],
   "source": []
  },
  {
   "cell_type": "code",
   "execution_count": 16,
   "metadata": {},
   "outputs": [],
   "source": [
    "import pandas as pd\n",
    "import os\n",
    "from surprise import Dataset, KNNBasic, Reader, accuracy, get_dataset_dir\n",
    "from surprise.model_selection import PredefinedKFold,cross_validate\n",
    "import io\n",
    "from collections import defaultdict"
   ]
  },
  {
   "cell_type": "code",
   "execution_count": 20,
   "metadata": {},
   "outputs": [],
   "source": [
    "database = pd.read_csv('ml-100k/u1.base.csv')\n",
    "user_set = set(database.user_id)\n",
    "item_set = set(database.item_id)\n",
    "\n",
    "files = os.path.expanduser('ml-100k/')\n",
    "reader = Reader('ml-100k')\n"
   ]
  },
  {
   "cell_type": "code",
   "execution_count": 22,
   "metadata": {},
   "outputs": [
    {
     "name": "stdout",
     "output_type": "stream",
     "text": [
      "Computing the msd similarity matrix...\n",
      "Done computing similarity matrix.\n"
     ]
    }
   ],
   "source": [
    "train_file = files + 'u1.base'\n",
    "test_file = files + 'u1.test'\n",
    "\n",
    "folds_files = [(train_file, test_file)]\n",
    "\n",
    "data = Dataset.load_from_folds(folds_files, reader=reader)\n",
    "\n",
    "pkf = PredefinedKFold()\n",
    "\n",
    "algo = KNNBasic()\n",
    "\n",
    "for trainset, testset in pkf.split(data):\n",
    "    algo.fit(trainset)\n",
    "    predictions = algo.test(testset)"
   ]
  },
  {
   "cell_type": "code",
   "execution_count": 23,
   "metadata": {},
   "outputs": [],
   "source": [
    "def get_top_n(predictions, n=10):\n",
    "    \n",
    "    top_n = defaultdict(list)\n",
    "    for uid, iid, true_r, est, _ in predictions:\n",
    "        top_n[uid].append((iid, est))\n",
    "\n",
    "    for uid, user_ratings in top_n.items():\n",
    "        user_ratings.sort(key=lambda x: x[1], reverse=True)\n",
    "        top_n[uid] = user_ratings[:n]\n",
    "\n",
    "    return top_n\n",
    "\n",
    "\n",
    "top_n = get_top_n(predictions, 5)"
   ]
  },
  {
   "cell_type": "code",
   "execution_count": 24,
   "metadata": {},
   "outputs": [],
   "source": [
    "def read_item_names():\n",
    "    file_name = 'ml-100k/u.item'\n",
    "    rid_to_name = {}\n",
    "    with io.open(file_name, 'r', encoding='ISO-8859-1') as f:\n",
    "        for line in f:\n",
    "            line = line.split('|')\n",
    "            rid_to_name[line[0]] = line[1]\n",
    "\n",
    "    return rid_to_name\n",
    "\n",
    "\n",
    "def read_user_info():\n",
    "    file_name =  'ml-100k/u.user'\n",
    "    rid_to_name = {}\n",
    "    with io.open(file_name, 'r', encoding='ISO-8859-1') as f:\n",
    "        for line in f:\n",
    "            line = line.split('|')\n",
    "            rid_to_name[line[0]] = (line[1],line[2],line[3])\n",
    "\n",
    "    return rid_to_name\n",
    "\n",
    "rid_to_item = read_item_names()\n",
    "rid_to_name = read_user_info()"
   ]
  },
  {
   "cell_type": "code",
   "execution_count": 25,
   "metadata": {},
   "outputs": [],
   "source": [
    "def get_movies(uid):\n",
    "    lista = []\n",
    "    valor = 0\n",
    "    for i in top_n.get(unicode(uid)):\n",
    "         valor +=1\n",
    "         lista.append(str(valor)+\" - \"+str(rid_to_item[i[0]]))\n",
    "    return lista"
   ]
  },
  {
   "cell_type": "code",
   "execution_count": 37,
   "metadata": {},
   "outputs": [],
   "source": [
    "def get_neighbors(uid):\n",
    "    neighbors = algo.get_neighbors(uid, k=3)\n",
    "    lista = []\n",
    "    for i in neighbors:\n",
    "       lista.append(\"id: \"+ str(algo.trainset.to_raw_uid(i))+' Age: '+str(rid_to_name[unicode(i)][0])+' Gender: '+str(rid_to_name[unicode(i)][1])+' Occupation: '+ str(rid_to_name[unicode(i)][2]))\n",
    "    return lista"
   ]
  },
  {
   "cell_type": "code",
   "execution_count": 38,
   "metadata": {},
   "outputs": [],
   "source": [
    "def get_rmse():\n",
    "    return str(\"%.3f\" % accuracy.rmse(predictions, verbose=True))"
   ]
  },
  {
   "cell_type": "code",
   "execution_count": 42,
   "metadata": {},
   "outputs": [
    {
     "name": "stdout",
     "output_type": "stream",
     "text": [
      "10\n",
      "Top 5 Movies\n",
      "1 - Vertigo (1958)\n",
      "2 - Roman Holiday (1953)\n",
      "3 - Gandhi (1982)\n",
      "4 - Deer Hunter, The (1978)\n",
      "5 - Streetcar Named Desire, A (1951)\n",
      "\n",
      "Top 3 Users\n",
      "id: 4 Age: 23 Gender: M Occupation: writer\n",
      "id: 9 Age: 36 Gender: M Occupation: administrator\n",
      "id: 35 Age: 38 Gender: F Occupation: administrator\n",
      "\n",
      "RMSE: 0.9889\n"
     ]
    },
    {
     "data": {
      "text/plain": [
       "'0.989'"
      ]
     },
     "execution_count": 42,
     "metadata": {},
     "output_type": "execute_result"
    }
   ],
   "source": [
    "user_id = int(raw_input())\n",
    "\n",
    "user = algo.trainset.to_inner_uid(unicode(user_id))\n",
    "print(\"Top 5 Movies\")\n",
    "for i in get_movies(user):\n",
    "    print i \n",
    "\n",
    "print\n",
    "\n",
    "print (\"Top 3 Users\")\n",
    "for i in get_neighbors(user):\n",
    "    print i \n",
    "\n",
    "print\n",
    "\n",
    "get_rmse()"
   ]
  },
  {
   "cell_type": "code",
   "execution_count": null,
   "metadata": {},
   "outputs": [],
   "source": []
  }
 ],
 "metadata": {
  "kernelspec": {
   "display_name": "Python 2",
   "language": "python",
   "name": "python2"
  },
  "language_info": {
   "codemirror_mode": {
    "name": "ipython",
    "version": 2
   },
   "file_extension": ".py",
   "mimetype": "text/x-python",
   "name": "python",
   "nbconvert_exporter": "python",
   "pygments_lexer": "ipython2",
   "version": "2.7.12"
  }
 },
 "nbformat": 4,
 "nbformat_minor": 2
}
