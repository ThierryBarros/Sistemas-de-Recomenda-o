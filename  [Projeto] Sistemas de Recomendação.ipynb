{
 "cells": [
  {
   "cell_type": "markdown",
   "metadata": {},
   "source": [
    "# Sistema de Recomendação"
   ]
  },
  {
   "cell_type": "code",
   "execution_count": 1,
   "metadata": {
    "collapsed": true
   },
   "outputs": [],
   "source": [
    "import pandas as pd\n",
    "import os\n",
    "from surprise import Dataset, KNNBasic, Reader, accuracy, get_dataset_dir\n",
    "from surprise.model_selection import PredefinedKFold,cross_validate\n",
    "import io\n",
    "from collections import defaultdict"
   ]
  },
  {
   "cell_type": "markdown",
   "metadata": {},
   "source": [
    "##Lendo os dados do arquivos"
   ]
  },
  {
   "cell_type": "code",
   "execution_count": 2,
   "metadata": {
    "collapsed": true
   },
   "outputs": [],
   "source": [
    "database = pd.read_csv('ml-100k/u1.base.csv')\n",
    "user_set = set(database.user_id)\n",
    "item_set = set(database.item_id)\n",
    "\n",
    "files = os.path.expanduser('ml-100k/')\n",
    "reader = Reader('ml-100k')\n"
   ]
  },
  {
   "cell_type": "markdown",
   "metadata": {},
   "source": [
    "##Separandos os dados de treino e teste e executando o algoritmo KNN."
   ]
  },
  {
   "cell_type": "code",
   "execution_count": 3,
   "metadata": {},
   "outputs": [
    {
     "name": "stdout",
     "output_type": "stream",
     "text": [
      "Computing the msd similarity matrix...\n",
      "Done computing similarity matrix.\n"
     ]
    }
   ],
   "source": [
    "train_file = files + 'u1.base'\n",
    "test_file = files + 'u1.test'\n",
    "\n",
    "folds_files = [(train_file, test_file)]\n",
    "\n",
    "data = Dataset.load_from_folds(folds_files, reader=reader)\n",
    "\n",
    "pkf = PredefinedKFold()\n",
    "\n",
    "algo = KNNBasic()\n",
    "\n",
    "for trainset, testset in pkf.split(data):\n",
    "    algo.fit(trainset)\n",
    "    predictions = algo.test(testset)"
   ]
  },
  {
   "cell_type": "markdown",
   "metadata": {},
   "source": [
    "##Função que recupera os n usuários mais próximos para todos os usuários\n",
    "\n",
    "O algortimo cria um dicionario de todos os usuário com as estimavita das notas dos itens ainda não avaliados por ele, depois ordena por nota e retorna as n maiores para todos os usuários.\n",
    "\n",
    "\n",
    "Cria o dicionario top_n que servira de busca para as recomendacoes."
   ]
  },
  {
   "cell_type": "code",
   "execution_count": 4,
   "metadata": {
    "collapsed": true
   },
   "outputs": [],
   "source": [
    "def get_top_n(predictions, n=10):\n",
    "    \n",
    "    top_n = defaultdict(list)\n",
    "    for uid, iid, true_r, est, _ in predictions:\n",
    "        top_n[uid].append((iid, est))\n",
    "\n",
    "    for uid, user_ratings in top_n.items():\n",
    "        user_ratings.sort(key=lambda x: x[1], reverse=True)\n",
    "        top_n[uid] = user_ratings[:n]\n",
    "\n",
    "    return top_n\n",
    "\n",
    "\n",
    "top_n = get_top_n(predictions, 5)"
   ]
  },
  {
   "cell_type": "markdown",
   "metadata": {},
   "source": [
    "##Função que mapeia o id para os nomes\n",
    "\n",
    "Read_item_names mapeia o id do filme para o seu respectivo nome;\n",
    "\n",
    "Read_user_info mapeia o id do usuário para as suas respectivas informacoes como Idade, genero e sexo.\n"
   ]
  },
  {
   "cell_type": "code",
   "execution_count": 5,
   "metadata": {
    "collapsed": true
   },
   "outputs": [],
   "source": [
    "def read_item_names():\n",
    "    file_name = 'ml-100k/u.item'\n",
    "    rid_to_name = {}\n",
    "    with io.open(file_name, 'r', encoding='ISO-8859-1') as f:\n",
    "        for line in f:\n",
    "            line = line.split('|')\n",
    "            rid_to_name[line[0]] = line[1]\n",
    "\n",
    "    return rid_to_name\n",
    "\n",
    "\n",
    "def read_user_info():\n",
    "    file_name =  'ml-100k/u.user'\n",
    "    rid_to_name = {}\n",
    "    with io.open(file_name, 'r', encoding='ISO-8859-1') as f:\n",
    "        for line in f:\n",
    "            line = line.split('|')\n",
    "            rid_to_name[line[0]] = (line[1],line[2],line[3])\n",
    "\n",
    "    return rid_to_name\n",
    "\n",
    "rid_to_item = read_item_names()\n",
    "rid_to_name = read_user_info()"
   ]
  },
  {
   "cell_type": "markdown",
   "metadata": {},
   "source": [
    "##Função que recupera os filmes\n",
    "\n",
    "Função que retorna o nome dos filmes recomendados para um dado usuário passado por id. A função assessa o dicionario top_n que possui as recomendações para todos os usuário."
   ]
  },
  {
   "cell_type": "code",
   "execution_count": 6,
   "metadata": {
    "collapsed": true
   },
   "outputs": [],
   "source": [
    "def get_movies(uid):\n",
    "    lista = []\n",
    "    valor = 0\n",
    "    for i in top_n.get(unicode(uid)):\n",
    "         valor +=1\n",
    "         lista.append(str(valor)+\" - \"+str(rid_to_item[i[0]]))\n",
    "    return lista"
   ]
  },
  {
   "cell_type": "markdown",
   "metadata": {},
   "source": [
    "##Função que recupea os vizinhos mais próximos\n",
    "\n",
    "Função retorna os 3 vizinhos mais próximos de uma dado usuário passado como id. Ela usa a função get_neighbors, e retorna as informações dos vizinhos (id,age,gender,occupation)."
   ]
  },
  {
   "cell_type": "code",
   "execution_count": 7,
   "metadata": {
    "collapsed": true
   },
   "outputs": [],
   "source": [
    "def get_neighbors(uid):\n",
    "    neighbors = algo.get_neighbors(uid, k=3)\n",
    "    lista = []\n",
    "    for i in neighbors:\n",
    "       lista.append(\"id: \"+ str(algo.trainset.to_raw_uid(i))+' Age: '+str(rid_to_name[unicode(i)][0])+' Gender: '+str(rid_to_name[unicode(i)][1])+' Occupation: '+ str(rid_to_name[unicode(i)][2]))\n",
    "    return lista"
   ]
  },
  {
   "cell_type": "markdown",
   "metadata": {},
   "source": [
    "##Função que retorna o rmse\n",
    "\n",
    "A função retorna o rmse das predições feitas pelo algoritmo do sistema de recomendação. É uma medida que calcula o erro dos valores preditos para o valores observados."
   ]
  },
  {
   "cell_type": "code",
   "execution_count": 8,
   "metadata": {
    "collapsed": true
   },
   "outputs": [],
   "source": [
    "def get_rmse():\n",
    "    return str(\"%.3f\" % accuracy.rmse(predictions, verbose=True))"
   ]
  },
  {
   "cell_type": "markdown",
   "metadata": {},
   "source": [
    "Uma breve execução do sistema com o usuário de id 10."
   ]
  },
  {
   "cell_type": "code",
   "execution_count": 9,
   "metadata": {},
   "outputs": [
    {
     "name": "stdout",
     "output_type": "stream",
     "text": [
      "Top 5 Movies\n",
      "1 - Vertigo (1958)\n",
      "2 - Roman Holiday (1953)\n",
      "3 - Gandhi (1982)\n",
      "4 - Deer Hunter, The (1978)\n",
      "5 - Streetcar Named Desire, A (1951)\n",
      "\n",
      "Top 3 Users\n",
      "id: 4 Age: 23 Gender: M Occupation: writer\n",
      "id: 9 Age: 36 Gender: M Occupation: administrator\n",
      "id: 35 Age: 38 Gender: F Occupation: administrator\n"
     ]
    }
   ],
   "source": [
    "user_id = 10\n",
    "\n",
    "user = algo.trainset.to_inner_uid(unicode(user_id))\n",
    "print(\"Top 5 Movies\")\n",
    "for i in get_movies(user):\n",
    "    print i \n",
    "\n",
    "print\n",
    "\n",
    "print (\"Top 3 Users\")\n",
    "for i in get_neighbors(user):\n",
    "    print i \n"
   ]
  },
  {
   "cell_type": "markdown",
   "metadata": {},
   "source": [
    "##RMSE DO SISTEMA"
   ]
  },
  {
   "cell_type": "code",
   "execution_count": 10,
   "metadata": {},
   "outputs": [
    {
     "name": "stdout",
     "output_type": "stream",
     "text": [
      "RMSE: 0.9889\n"
     ]
    },
    {
     "data": {
      "text/plain": [
       "'0.989'"
      ]
     },
     "execution_count": 10,
     "metadata": {},
     "output_type": "execute_result"
    }
   ],
   "source": [
    "get_rmse()"
   ]
  }
 ],
 "metadata": {
  "kernelspec": {
   "display_name": "Python 3",
   "language": "python",
   "name": "python3"
  },
  "language_info": {
   "codemirror_mode": {
    "name": "ipython",
    "version": 3
   },
   "file_extension": ".py",
   "mimetype": "text/x-python",
   "name": "python",
   "nbconvert_exporter": "python",
   "pygments_lexer": "ipython3",
   "version": "3.6.2"
  }
 },
 "nbformat": 4,
 "nbformat_minor": 2
}
